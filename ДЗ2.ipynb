{
 "cells": [
  {
   "cell_type": "markdown",
   "metadata": {},
   "source": [
    "# Задача №1 from RPKM to TPM\n"
   ]
  },
  {
   "cell_type": "markdown",
   "metadata": {},
   "source": [
    "$TPM_i  = \\frac{RPKM_i}{\\sum_n(RPKM_n)}$"
   ]
  },
  {
   "cell_type": "markdown",
   "metadata": {},
   "source": [
    "$\\frac{RPKM_i}{\\sum_n{RPKM_n}} = \\frac{A_i}{l_i \\sum_m{A_m} \\cdot \\sum_i{\\frac{A_i}{l_i \\sum_k{A_k}}}} = \\frac{A_i \\sum_k{A_k}}{l_i \\sum_m{A_m} \\sum_i{\\frac{A_i}{l_i}}} = \\frac{A_i}{l_i \\sum_i{\\frac{A_i}{l_i}}}$"
   ]
  },
  {
   "cell_type": "code",
   "execution_count": 40,
   "metadata": {},
   "outputs": [],
   "source": [
    "import pandas as pd\n",
    "\n",
    "read_file = pd.read_csv (r'C:\\Users\\Анастасия\\Desktop\\bioinformatica\\test.txt', sep = '\\t')"
   ]
  },
  {
   "cell_type": "code",
   "execution_count": 45,
   "metadata": {},
   "outputs": [
    {
     "data": {
      "text/html": [
       "<div>\n",
       "<style scoped>\n",
       "    .dataframe tbody tr th:only-of-type {\n",
       "        vertical-align: middle;\n",
       "    }\n",
       "\n",
       "    .dataframe tbody tr th {\n",
       "        vertical-align: top;\n",
       "    }\n",
       "\n",
       "    .dataframe thead th {\n",
       "        text-align: right;\n",
       "    }\n",
       "</style>\n",
       "<table border=\"1\" class=\"dataframe\">\n",
       "  <thead>\n",
       "    <tr style=\"text-align: right;\">\n",
       "      <th></th>\n",
       "      <th>Unnamed: 0</th>\n",
       "      <th>Name</th>\n",
       "      <th>468_MeCP2_NTC - linear total RPKM</th>\n",
       "      <th>468_MeCP2_sh1 - linear total RPKM</th>\n",
       "      <th>468_MeCP2_sh3 - linear total RPKM</th>\n",
       "    </tr>\n",
       "  </thead>\n",
       "  <tbody>\n",
       "    <tr>\n",
       "      <td>0</td>\n",
       "      <td>NaN</td>\n",
       "      <td>A1BG</td>\n",
       "      <td>0.723</td>\n",
       "      <td>2.046</td>\n",
       "      <td>1.619</td>\n",
       "    </tr>\n",
       "    <tr>\n",
       "      <td>1</td>\n",
       "      <td>NaN</td>\n",
       "      <td>A1BG-AS1</td>\n",
       "      <td>2.547</td>\n",
       "      <td>4.397</td>\n",
       "      <td>3.360</td>\n",
       "    </tr>\n",
       "    <tr>\n",
       "      <td>2</td>\n",
       "      <td>NaN</td>\n",
       "      <td>A1CF</td>\n",
       "      <td>0.007</td>\n",
       "      <td>0.000</td>\n",
       "      <td>0.000</td>\n",
       "    </tr>\n",
       "    <tr>\n",
       "      <td>3</td>\n",
       "      <td>NaN</td>\n",
       "      <td>A2M</td>\n",
       "      <td>0.178</td>\n",
       "      <td>12.198</td>\n",
       "      <td>3.933</td>\n",
       "    </tr>\n",
       "    <tr>\n",
       "      <td>4</td>\n",
       "      <td>NaN</td>\n",
       "      <td>A2M-AS1</td>\n",
       "      <td>0.023</td>\n",
       "      <td>0.444</td>\n",
       "      <td>0.196</td>\n",
       "    </tr>\n",
       "    <tr>\n",
       "      <td>...</td>\n",
       "      <td>...</td>\n",
       "      <td>...</td>\n",
       "      <td>...</td>\n",
       "      <td>...</td>\n",
       "      <td>...</td>\n",
       "    </tr>\n",
       "    <tr>\n",
       "      <td>37991</td>\n",
       "      <td>NaN</td>\n",
       "      <td>ZYG11A</td>\n",
       "      <td>1.450</td>\n",
       "      <td>9.805</td>\n",
       "      <td>7.514</td>\n",
       "    </tr>\n",
       "    <tr>\n",
       "      <td>37992</td>\n",
       "      <td>NaN</td>\n",
       "      <td>ZYG11B</td>\n",
       "      <td>2.315</td>\n",
       "      <td>10.901</td>\n",
       "      <td>9.393</td>\n",
       "    </tr>\n",
       "    <tr>\n",
       "      <td>37993</td>\n",
       "      <td>NaN</td>\n",
       "      <td>ZYX</td>\n",
       "      <td>8.223</td>\n",
       "      <td>32.529</td>\n",
       "      <td>36.172</td>\n",
       "    </tr>\n",
       "    <tr>\n",
       "      <td>37994</td>\n",
       "      <td>NaN</td>\n",
       "      <td>ZZEF1</td>\n",
       "      <td>2.345</td>\n",
       "      <td>6.174</td>\n",
       "      <td>5.707</td>\n",
       "    </tr>\n",
       "    <tr>\n",
       "      <td>37995</td>\n",
       "      <td>NaN</td>\n",
       "      <td>ZZZ3</td>\n",
       "      <td>4.697</td>\n",
       "      <td>15.186</td>\n",
       "      <td>12.233</td>\n",
       "    </tr>\n",
       "  </tbody>\n",
       "</table>\n",
       "<p>37996 rows × 5 columns</p>\n",
       "</div>"
      ],
      "text/plain": [
       "       Unnamed: 0      Name  468_MeCP2_NTC - linear total RPKM  \\\n",
       "0             NaN      A1BG                              0.723   \n",
       "1             NaN  A1BG-AS1                              2.547   \n",
       "2             NaN      A1CF                              0.007   \n",
       "3             NaN       A2M                              0.178   \n",
       "4             NaN   A2M-AS1                              0.023   \n",
       "...           ...       ...                                ...   \n",
       "37991         NaN    ZYG11A                              1.450   \n",
       "37992         NaN    ZYG11B                              2.315   \n",
       "37993         NaN       ZYX                              8.223   \n",
       "37994         NaN     ZZEF1                              2.345   \n",
       "37995         NaN      ZZZ3                              4.697   \n",
       "\n",
       "       468_MeCP2_sh1 - linear total RPKM  468_MeCP2_sh3 - linear total RPKM  \n",
       "0                                  2.046                              1.619  \n",
       "1                                  4.397                              3.360  \n",
       "2                                  0.000                              0.000  \n",
       "3                                 12.198                              3.933  \n",
       "4                                  0.444                              0.196  \n",
       "...                                  ...                                ...  \n",
       "37991                              9.805                              7.514  \n",
       "37992                             10.901                              9.393  \n",
       "37993                             32.529                             36.172  \n",
       "37994                              6.174                              5.707  \n",
       "37995                             15.186                             12.233  \n",
       "\n",
       "[37996 rows x 5 columns]"
      ]
     },
     "execution_count": 45,
     "metadata": {},
     "output_type": "execute_result"
    }
   ],
   "source": [
    "read_file"
   ]
  },
  {
   "cell_type": "code",
   "execution_count": 47,
   "metadata": {},
   "outputs": [],
   "source": [
    "products_list = read_file.values.tolist()"
   ]
  },
  {
   "cell_type": "code",
   "execution_count": 123,
   "metadata": {},
   "outputs": [],
   "source": [
    "TPM = [[None]*4 for i in range(len(products_list))]\n",
    "for i in range(len(products_list)):\n",
    "    TPM[i][0] = products_list[i][1]\n",
    "for i in range(3):\n",
    "    RPKM_sum = 0 \n",
    "    for j in range(len(products_list)):\n",
    "        RPKM_sum += products_list[j][2+i]\n",
    "    for j in range(len(products_list)):\n",
    "        TPM[j][i+1] = products_list[j][2+i]/RPKM_sum"
   ]
  },
  {
   "cell_type": "code",
   "execution_count": 128,
   "metadata": {},
   "outputs": [],
   "source": [
    "def RPKM_TPM(RPKM):  #RPKM - list, первый столбец - название\n",
    "    n = len(RPKM)\n",
    "    m = len(RPKM[0])\n",
    "    TPM = [[None]*m for i in range(n)]\n",
    "    for i in range(n):\n",
    "        TPM[i][0] = RPKM[i][0]\n",
    "    for i in range(m):\n",
    "        RPKM_sum = 0\n",
    "        for j in range(n):\n",
    "            RPKM_sum += TPM[j][i]\n",
    "        for j in range(n):\n",
    "            TPM[j][i+1] = RPKM[j][i+1]/RPKM_sum\n",
    "    return TPM"
   ]
  },
  {
   "cell_type": "code",
   "execution_count": null,
   "metadata": {},
   "outputs": [],
   "source": []
  }
 ],
 "metadata": {
  "kernelspec": {
   "display_name": "Python 3",
   "language": "python",
   "name": "python3"
  },
  "language_info": {
   "codemirror_mode": {
    "name": "ipython",
    "version": 3
   },
   "file_extension": ".py",
   "mimetype": "text/x-python",
   "name": "python",
   "nbconvert_exporter": "python",
   "pygments_lexer": "ipython3",
   "version": "3.7.4"
  }
 },
 "nbformat": 4,
 "nbformat_minor": 2
}
